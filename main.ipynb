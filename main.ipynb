{
  "nbformat": 4,
  "nbformat_minor": 0,
  "metadata": {
    "colab": {
      "name": "Copy of main.ipynb",
      "provenance": [],
      "include_colab_link": true
    },
    "kernelspec": {
      "name": "python3",
      "display_name": "Python 3"
    },
    "language_info": {
      "name": "python"
    }
  },
  "cells": [
    {
      "cell_type": "markdown",
      "metadata": {
        "id": "view-in-github",
        "colab_type": "text"
      },
      "source": [
        "<a href=\"https://colab.research.google.com/github/Neeraj-007/TAB-015/blob/main/Copy_of_main.ipynb\" target=\"_parent\"><img src=\"https://colab.research.google.com/assets/colab-badge.svg\" alt=\"Open In Colab\"/></a>"
      ]
    },
    {
      "cell_type": "code",
      "source": [
        "from google.colab import drive\n",
        "drive.mount('/content/drive')"
      ],
      "metadata": {
        "colab": {
          "base_uri": "https://localhost:8080/"
        },
        "id": "3ugwr4-bwRRH",
        "outputId": "82c56931-2d87-42e3-ae41-5c499c7fc0be"
      },
      "execution_count": 1,
      "outputs": [
        {
          "output_type": "stream",
          "name": "stdout",
          "text": [
            "Mounted at /content/drive\n"
          ]
        }
      ]
    },
    {
      "cell_type": "markdown",
      "source": [
        "## **Importing Modules**"
      ],
      "metadata": {
        "id": "S6mpluXzQJ6q"
      }
    },
    {
      "cell_type": "code",
      "source": [
        "import numpy as np\n",
        "import matplotlib.pyplot as plt\n",
        "import cv2\n",
        "import os"
      ],
      "metadata": {
        "id": "PKGLSLB1AyZV"
      },
      "execution_count": 2,
      "outputs": []
    },
    {
      "cell_type": "code",
      "source": [
        "%matplotlib inline"
      ],
      "metadata": {
        "id": "RS-XgeSkDe_m"
      },
      "execution_count": 3,
      "outputs": []
    },
    {
      "cell_type": "markdown",
      "source": [
        "## **Data Gathering**"
      ],
      "metadata": {
        "id": "0Vgfar6CQRx4"
      }
    },
    {
      "cell_type": "code",
      "source": [
        "path = r'/content/drive/MyDrive/AutoBot Round 1/dataset'"
      ],
      "metadata": {
        "id": "CQSFqTARDhpE"
      },
      "execution_count": 6,
      "outputs": []
    },
    {
      "cell_type": "code",
      "source": [
        "l=os.listdir(path)"
      ],
      "metadata": {
        "id": "wPhQ624vD6Af"
      },
      "execution_count": 8,
      "outputs": []
    },
    {
      "cell_type": "code",
      "source": [
        "data=[]\n",
        "\n",
        "for img in l:\n",
        "    img_path=os.path.join(path,img)\n",
        "    arr=cv2.imread(img_path,1)\n",
        "    if arr is not None:\n",
        "      arr=cv2.cvtColor(arr,cv2.COLOR_BGR2RGB)\n",
        "      arr_new=cv2.resize(arr,(100,100))\n",
        "      img1=img.split(' ')\n",
        "      img1=img1[0]\n",
        "      if(img1=='animal'):\n",
        "          label=0\n",
        "      elif(img1 == 'person'):\n",
        "          label=1\n",
        "      elif(img1 == 'cones'):\n",
        "          label=2\n",
        "      elif(img1 == 'stop'):\n",
        "          label=3\n",
        "      elif(img1 == 'traffic_red'):\n",
        "          label=4\n",
        "      elif(img1 == 'traffic_blue'):\n",
        "          label=5\n",
        "      else:\n",
        "          label=6\n",
        "      data.append([arr_new, label])"
      ],
      "metadata": {
        "id": "uBSJZGNHD9Pv"
      },
      "execution_count": 9,
      "outputs": []
    },
    {
      "cell_type": "markdown",
      "source": [
        "## **Shuffling the continuous arrangement data**"
      ],
      "metadata": {
        "id": "1a778JGCQZpA"
      }
    },
    {
      "cell_type": "code",
      "source": [
        "import sklearn\n",
        "import random\n",
        "import shutil\n",
        "import sklearn.model_selection\n",
        "x=[]\n",
        "y=[]\n",
        "\n",
        "for features, label in data:\n",
        "    x.append(features)\n",
        "    y.append(label)\n",
        "\n",
        "x=np.array(x)\n",
        "y=np.array(y)\n"
      ],
      "metadata": {
        "id": "kbZwar4MjDGa"
      },
      "execution_count": 11,
      "outputs": []
    },
    {
      "cell_type": "markdown",
      "source": [
        "## **Dividing the dataset into training and testing**"
      ],
      "metadata": {
        "id": "qgblyAgTREho"
      }
    },
    {
      "cell_type": "code",
      "source": [
        "X_train, X_test, y_train, y_test = sklearn.model_selection.train_test_split(x, y, test_size = 0.2, stratify = y, random_state = 42)"
      ],
      "metadata": {
        "id": "NhJa7b91RBAF"
      },
      "execution_count": 12,
      "outputs": []
    },
    {
      "cell_type": "code",
      "source": [
        "X_train.shape"
      ],
      "metadata": {
        "id": "mA-H8ri1kpaf",
        "colab": {
          "base_uri": "https://localhost:8080/"
        },
        "outputId": "9782ec03-52e0-45d9-da13-5cba90240e77"
      },
      "execution_count": 13,
      "outputs": [
        {
          "output_type": "execute_result",
          "data": {
            "text/plain": [
              "(5480, 100, 100, 3)"
            ]
          },
          "metadata": {},
          "execution_count": 13
        }
      ]
    },
    {
      "cell_type": "code",
      "source": [
        "X_test.shape"
      ],
      "metadata": {
        "id": "-OC8duTWks8_",
        "colab": {
          "base_uri": "https://localhost:8080/"
        },
        "outputId": "8e57c712-66ac-4013-b3d9-53f75a66fa63"
      },
      "execution_count": 14,
      "outputs": [
        {
          "output_type": "execute_result",
          "data": {
            "text/plain": [
              "(1370, 100, 100, 3)"
            ]
          },
          "metadata": {},
          "execution_count": 14
        }
      ]
    },
    {
      "cell_type": "code",
      "source": [
        "X_train = X_train/255"
      ],
      "metadata": {
        "id": "TIwe7qLmyqCH"
      },
      "execution_count": 15,
      "outputs": []
    },
    {
      "cell_type": "markdown",
      "source": [
        "## **Train Model**"
      ],
      "metadata": {
        "id": "CJEvVPnxRNGU"
      }
    },
    {
      "cell_type": "code",
      "source": [
        "import tensorflow as tf\n",
        "\n",
        "model = tf.keras.Sequential()\n",
        "model.add(tf.keras.layers.Conv2D(32, 2, activation='relu'))\n",
        "model.add(tf.keras.layers.MaxPool2D(pool_size = (2, 2)))\n",
        "\n",
        "model.add(tf.keras.layers.Conv2D(64, 2, activation='relu'))\n",
        "model.add(tf.keras.layers.MaxPool2D(pool_size = (2, 2), padding = 'same'))\n",
        "\n",
        "model.add(tf.keras.layers.Conv2D(32, 2, activation='relu'))\n",
        "model.add(tf.keras.layers.MaxPool2D(pool_size = (2, 2), padding = 'same'))\n",
        "\n",
        "model.add(tf.keras.layers.Conv2D(64, 2, activation='relu'))\n",
        "model.add(tf.keras.layers.MaxPool2D(pool_size = (2, 2), padding = 'same'))\n",
        "\n",
        "model.add(tf.keras.layers.Conv2D(32, 2, activation='relu'))\n",
        "model.add(tf.keras.layers.MaxPool2D(pool_size = (2, 2), padding = 'same'))\n",
        "\n",
        "model.add(tf.keras.layers.Conv2D(64, 2, activation='relu'))\n",
        "model.add(tf.keras.layers.MaxPool2D(pool_size = (2, 2), padding = 'same'))\n",
        "\n",
        "model.add(tf.keras.layers.Dense(1024, activation ='relu'))\n",
        "model.add(tf.keras.layers.Dropout(0.8))\n",
        "\n",
        "model.add(tf.keras.layers.Dense(7, activation ='softmax'))\n",
        "\n"
      ],
      "metadata": {
        "id": "D3RMh0Rayu13"
      },
      "execution_count": 16,
      "outputs": []
    },
    {
      "cell_type": "code",
      "source": [
        "model.compile(optimizer=tf.keras.optimizers.Adam(learning_rate=0.01),\n",
        "              loss=tf.keras.losses.SparseCategoricalCrossentropy())"
      ],
      "metadata": {
        "id": "sLVlWAPo1dys"
      },
      "execution_count": 17,
      "outputs": []
    },
    {
      "cell_type": "code",
      "source": [
        "X_train.shape"
      ],
      "metadata": {
        "id": "rVMejYzq246q",
        "colab": {
          "base_uri": "https://localhost:8080/"
        },
        "outputId": "84ada201-dfa2-4c5e-f56e-4894de14cfcb"
      },
      "execution_count": 18,
      "outputs": [
        {
          "output_type": "execute_result",
          "data": {
            "text/plain": [
              "(5480, 100, 100, 3)"
            ]
          },
          "metadata": {},
          "execution_count": 18
        }
      ]
    },
    {
      "cell_type": "code",
      "source": [
        "\n",
        "np.unique(y_train)"
      ],
      "metadata": {
        "id": "jGg38lxv4JRW",
        "colab": {
          "base_uri": "https://localhost:8080/"
        },
        "outputId": "df348526-1a1f-4ff6-8bd8-5bc2bb8f94f9"
      },
      "execution_count": 19,
      "outputs": [
        {
          "output_type": "execute_result",
          "data": {
            "text/plain": [
              "array([0, 1, 2, 3, 4, 5, 6])"
            ]
          },
          "metadata": {},
          "execution_count": 19
        }
      ]
    },
    {
      "cell_type": "code",
      "source": [
        "model.fit(x = X_train, y = y_train, epochs = 10, batch_size = 64)"
      ],
      "metadata": {
        "id": "hv4zznSW2GGa",
        "colab": {
          "base_uri": "https://localhost:8080/"
        },
        "outputId": "2c9ec1b9-e41f-4939-9402-91b8599e3f6b"
      },
      "execution_count": 20,
      "outputs": [
        {
          "output_type": "stream",
          "name": "stdout",
          "text": [
            "Epoch 1/10\n",
            "86/86 [==============================] - 53s 600ms/step - loss: 1.7609\n",
            "Epoch 2/10\n",
            "86/86 [==============================] - 51s 596ms/step - loss: 1.7195\n",
            "Epoch 3/10\n",
            "86/86 [==============================] - 51s 589ms/step - loss: 1.7151\n",
            "Epoch 4/10\n",
            "86/86 [==============================] - 51s 593ms/step - loss: 1.7152\n",
            "Epoch 5/10\n",
            "86/86 [==============================] - 50s 584ms/step - loss: 1.7084\n",
            "Epoch 6/10\n",
            "86/86 [==============================] - 51s 589ms/step - loss: 1.7076\n",
            "Epoch 7/10\n",
            "86/86 [==============================] - 51s 588ms/step - loss: 1.7022\n",
            "Epoch 8/10\n",
            "86/86 [==============================] - 50s 583ms/step - loss: 1.7014\n",
            "Epoch 9/10\n",
            "86/86 [==============================] - 50s 584ms/step - loss: 1.6998\n",
            "Epoch 10/10\n",
            "86/86 [==============================] - 50s 583ms/step - loss: 1.6992\n"
          ]
        },
        {
          "output_type": "execute_result",
          "data": {
            "text/plain": [
              "<keras.callbacks.History at 0x7fd194beb650>"
            ]
          },
          "metadata": {},
          "execution_count": 20
        }
      ]
    },
    {
      "cell_type": "code",
      "source": [
        "!mkdir -p saved_model\n",
        "model.save('saved_model/model.h5')"
      ],
      "metadata": {
        "id": "nHRdRWAyRbpo"
      },
      "execution_count": 21,
      "outputs": []
    },
    {
      "cell_type": "code",
      "source": [
        "\n",
        "new_model = tf.keras.models.load_model('saved_model/model.h5')\n",
        "new_model.summary()\n",
        "# Check its architecture\n"
      ],
      "metadata": {
        "id": "b_-YGBmx8iB3",
        "colab": {
          "base_uri": "https://localhost:8080/"
        },
        "outputId": "11313d30-4848-4adb-fa24-ea0efedaae15"
      },
      "execution_count": 25,
      "outputs": [
        {
          "output_type": "stream",
          "name": "stdout",
          "text": [
            "Model: \"sequential\"\n",
            "_________________________________________________________________\n",
            " Layer (type)                Output Shape              Param #   \n",
            "=================================================================\n",
            " conv2d (Conv2D)             (None, 99, 99, 32)        416       \n",
            "                                                                 \n",
            " max_pooling2d (MaxPooling2D  (None, 49, 49, 32)       0         \n",
            " )                                                               \n",
            "                                                                 \n",
            " conv2d_1 (Conv2D)           (None, 48, 48, 64)        8256      \n",
            "                                                                 \n",
            " max_pooling2d_1 (MaxPooling  (None, 24, 24, 64)       0         \n",
            " 2D)                                                             \n",
            "                                                                 \n",
            " conv2d_2 (Conv2D)           (None, 23, 23, 32)        8224      \n",
            "                                                                 \n",
            " max_pooling2d_2 (MaxPooling  (None, 12, 12, 32)       0         \n",
            " 2D)                                                             \n",
            "                                                                 \n",
            " conv2d_3 (Conv2D)           (None, 11, 11, 64)        8256      \n",
            "                                                                 \n",
            " max_pooling2d_3 (MaxPooling  (None, 6, 6, 64)         0         \n",
            " 2D)                                                             \n",
            "                                                                 \n",
            " conv2d_4 (Conv2D)           (None, 5, 5, 32)          8224      \n",
            "                                                                 \n",
            " max_pooling2d_4 (MaxPooling  (None, 3, 3, 32)         0         \n",
            " 2D)                                                             \n",
            "                                                                 \n",
            " conv2d_5 (Conv2D)           (None, 2, 2, 64)          8256      \n",
            "                                                                 \n",
            " max_pooling2d_5 (MaxPooling  (None, 1, 1, 64)         0         \n",
            " 2D)                                                             \n",
            "                                                                 \n",
            " dense (Dense)               (None, 1, 1, 1024)        66560     \n",
            "                                                                 \n",
            " dropout (Dropout)           (None, 1, 1, 1024)        0         \n",
            "                                                                 \n",
            " dense_1 (Dense)             (None, 1, 1, 7)           7175      \n",
            "                                                                 \n",
            "=================================================================\n",
            "Total params: 115,367\n",
            "Trainable params: 115,367\n",
            "Non-trainable params: 0\n",
            "_________________________________________________________________\n"
          ]
        }
      ]
    },
    {
      "cell_type": "code",
      "source": [
        "model.evaluate(x = X_test, y = y_test, batch_size = 64)"
      ],
      "metadata": {
        "id": "lqPVYe6G6hKP",
        "colab": {
          "base_uri": "https://localhost:8080/"
        },
        "outputId": "fcb2f84f-09ef-4d17-d84a-d70b4a916747"
      },
      "execution_count": 26,
      "outputs": [
        {
          "output_type": "stream",
          "name": "stdout",
          "text": [
            "22/22 [==============================] - 4s 163ms/step - loss: 1.6979\n"
          ]
        },
        {
          "output_type": "execute_result",
          "data": {
            "text/plain": [
              "1.6979451179504395"
            ]
          },
          "metadata": {},
          "execution_count": 26
        }
      ]
    },
    {
      "cell_type": "code",
      "source": [
        "predictions = model.predict(X_test[:10])\n",
        "predictions[0]"
      ],
      "metadata": {
        "id": "-9WEI-BC7BvL",
        "colab": {
          "base_uri": "https://localhost:8080/"
        },
        "outputId": "573bd42a-cfe3-473f-c4a4-bba0cf4b5095"
      },
      "execution_count": 27,
      "outputs": [
        {
          "output_type": "execute_result",
          "data": {
            "text/plain": [
              "array([[[0.22301047, 0.29719368, 0.23623192, 0.09419093, 0.05171363,\n",
              "         0.05053916, 0.04712011]]], dtype=float32)"
            ]
          },
          "metadata": {},
          "execution_count": 27
        }
      ]
    }
  ]
}
